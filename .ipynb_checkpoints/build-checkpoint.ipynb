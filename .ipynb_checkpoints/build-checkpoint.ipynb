{
 "cells": [
  {
   "cell_type": "code",
   "execution_count": 71,
   "id": "728b3d31-ff26-4c10-b145-248d25270711",
   "metadata": {},
   "outputs": [],
   "source": [
    "import pandas as pd\n",
    "import mplfinance as mpf\n",
    "from pandas_datareader import data as pdr"
   ]
  },
  {
   "cell_type": "code",
   "execution_count": 72,
   "id": "0a6a70e0-205c-4ee7-8c70-692ac30945ab",
   "metadata": {},
   "outputs": [],
   "source": [
    "start = \"2021-02-24\"\n",
    "end = \"2022-03-04\"\n",
    "symbols = [\"AAPL\"]"
   ]
  },
  {
   "cell_type": "code",
   "execution_count": 73,
   "id": "2fe55c2e-3a97-46cf-8776-b509f4425264",
   "metadata": {},
   "outputs": [
    {
     "data": {
      "text/plain": [
       "Index(['Adj Close', 'Close', 'High', 'Low', 'Open', 'Volume'], dtype='object')"
      ]
     },
     "execution_count": 73,
     "metadata": {},
     "output_type": "execute_result"
    }
   ],
   "source": [
    "aapl_df = pdr.get_data_yahoo(symbols, start, end)\n",
    "aapl_df.columns = [name[0] for name in aapl_df.columns]\n",
    "aapl_df.columns"
   ]
  },
  {
   "cell_type": "code",
   "execution_count": 74,
   "id": "c3cc4fc0-d1fe-4936-af95-c433f4aa7d34",
   "metadata": {},
   "outputs": [
    {
     "data": {
      "text/html": [
       "<div>\n",
       "<style scoped>\n",
       "    .dataframe tbody tr th:only-of-type {\n",
       "        vertical-align: middle;\n",
       "    }\n",
       "\n",
       "    .dataframe tbody tr th {\n",
       "        vertical-align: top;\n",
       "    }\n",
       "\n",
       "    .dataframe thead th {\n",
       "        text-align: right;\n",
       "    }\n",
       "</style>\n",
       "<table border=\"1\" class=\"dataframe\">\n",
       "  <thead>\n",
       "    <tr style=\"text-align: right;\">\n",
       "      <th></th>\n",
       "      <th>Adj Close</th>\n",
       "      <th>Close</th>\n",
       "      <th>High</th>\n",
       "      <th>Low</th>\n",
       "      <th>Open</th>\n",
       "      <th>Volume</th>\n",
       "    </tr>\n",
       "    <tr>\n",
       "      <th>Date</th>\n",
       "      <th></th>\n",
       "      <th></th>\n",
       "      <th></th>\n",
       "      <th></th>\n",
       "      <th></th>\n",
       "      <th></th>\n",
       "    </tr>\n",
       "  </thead>\n",
       "  <tbody>\n",
       "    <tr>\n",
       "      <th>2021-02-24</th>\n",
       "      <td>124.609375</td>\n",
       "      <td>125.349998</td>\n",
       "      <td>125.559998</td>\n",
       "      <td>122.230003</td>\n",
       "      <td>124.940002</td>\n",
       "      <td>111039900.0</td>\n",
       "    </tr>\n",
       "    <tr>\n",
       "      <th>2021-02-25</th>\n",
       "      <td>120.275139</td>\n",
       "      <td>120.989998</td>\n",
       "      <td>126.459999</td>\n",
       "      <td>120.540001</td>\n",
       "      <td>124.680000</td>\n",
       "      <td>148199500.0</td>\n",
       "    </tr>\n",
       "    <tr>\n",
       "      <th>2021-02-26</th>\n",
       "      <td>120.543556</td>\n",
       "      <td>121.260002</td>\n",
       "      <td>124.849998</td>\n",
       "      <td>121.199997</td>\n",
       "      <td>122.589996</td>\n",
       "      <td>164560400.0</td>\n",
       "    </tr>\n",
       "    <tr>\n",
       "      <th>2021-03-01</th>\n",
       "      <td>127.034966</td>\n",
       "      <td>127.790001</td>\n",
       "      <td>127.930000</td>\n",
       "      <td>122.790001</td>\n",
       "      <td>123.750000</td>\n",
       "      <td>116307900.0</td>\n",
       "    </tr>\n",
       "    <tr>\n",
       "      <th>2021-03-02</th>\n",
       "      <td>124.380745</td>\n",
       "      <td>125.120003</td>\n",
       "      <td>128.720001</td>\n",
       "      <td>125.010002</td>\n",
       "      <td>128.410004</td>\n",
       "      <td>102260900.0</td>\n",
       "    </tr>\n",
       "  </tbody>\n",
       "</table>\n",
       "</div>"
      ],
      "text/plain": [
       "             Adj Close       Close        High         Low        Open  \\\n",
       "Date                                                                     \n",
       "2021-02-24  124.609375  125.349998  125.559998  122.230003  124.940002   \n",
       "2021-02-25  120.275139  120.989998  126.459999  120.540001  124.680000   \n",
       "2021-02-26  120.543556  121.260002  124.849998  121.199997  122.589996   \n",
       "2021-03-01  127.034966  127.790001  127.930000  122.790001  123.750000   \n",
       "2021-03-02  124.380745  125.120003  128.720001  125.010002  128.410004   \n",
       "\n",
       "                 Volume  \n",
       "Date                     \n",
       "2021-02-24  111039900.0  \n",
       "2021-02-25  148199500.0  \n",
       "2021-02-26  164560400.0  \n",
       "2021-03-01  116307900.0  \n",
       "2021-03-02  102260900.0  "
      ]
     },
     "execution_count": 74,
     "metadata": {},
     "output_type": "execute_result"
    }
   ],
   "source": [
    "aapl_df.head()"
   ]
  },
  {
   "cell_type": "code",
   "execution_count": 56,
   "id": "6248690b-82d4-48cc-80dc-547cfa40c958",
   "metadata": {},
   "outputs": [],
   "source": [
    "mpf.plot(aapl_df, figscale=2, type='candle', volume=True, savefig=\"AAPL_Chart.png\")"
   ]
  },
  {
   "cell_type": "code",
   "execution_count": 57,
   "id": "3fe010b6-4ae2-4d2b-a96a-400204c79aa4",
   "metadata": {},
   "outputs": [],
   "source": [
    "aapl_df.to_csv('aapl_df.csv')"
   ]
  },
  {
   "cell_type": "code",
   "execution_count": 58,
   "id": "35d7b0ce-71f1-4f5f-9c47-a589efb404b3",
   "metadata": {},
   "outputs": [],
   "source": [
    "def mm_sr(dataframe):\n",
    "    \"\"\"Function to get max min for support and resistance\"\"\"\n",
    "    n = 5\n",
    "    dataframe['min_sr'] = dataframe.iloc[argrelextrema(dataframe.Close.values, np.less_equal, order=n)[0]]['Close']\n",
    "    dataframe['max_sr'] = dataframe.iloc[argrelextrema(dataframe.Close.values, np.greater_equal, order=n)[0]]['Close']\n",
    "    return dataframe"
   ]
  },
  {
   "cell_type": "code",
   "execution_count": 59,
   "id": "5ae2d3ce-53d8-47de-ad57-73912c94a399",
   "metadata": {},
   "outputs": [],
   "source": [
    "def mm_sr(dataframe):\n",
    "    \"\"\"Function to get max min for chart patterns\"\"\"  \n",
    "    dataframe['min'] = dataframe.Close[(dataframe.Close.shift(1) > dataframe.Close) & (dataframe.Close.shift(-1) > dataframe.Close)]\n",
    "    dataframe['max'] = dataframe.Close[(dataframe.Close.shift(1) < dataframe.Close) & (dataframe.Close.shift(-1) < dataframe.Close)] \n",
    "    return dataframe"
   ]
  },
  {
   "cell_type": "code",
   "execution_count": 60,
   "id": "a6ce0d56-9e0d-42b2-9554-e3d0e479dead",
   "metadata": {},
   "outputs": [],
   "source": [
    "def levels(df, sensitivity=3, tests=3, noise_r=0.01):\n",
    "    # Get list of all minimum and maximum levels\n",
    "    df['min'] = df.Close[(df.Close.shift(1) > df.Close) & (df.Close.shift(-1) > df.Close)]\n",
    "    df['max'] = df.Close[(df.Close.shift(1) < df.Close) & (df.Close.shift(-1) < df.Close)]\n",
    "    max_sr = [(row.Date, row.max) for row in df.itertuples() if row.max > 0]\n",
    "    min_sr = [(row.Date, row.min) for row in df.itertuples() if row.min > 0]\n",
    "    sr = sorted([[mx for mx in max_sr]+[mn for mn in min_sr]][0])\n",
    "    \n",
    "    # Init dictionary to store level strength\n",
    "    sr_dict = {}\n",
    "    \n",
    "    # itereate through rows to establish and test levels\n",
    "    for row in df.itertuples():\n",
    "        body = abs(row.Close - row.Open)\n",
    "        wick = abs(row.High - row.Low)\n",
    "        candle_ratio = body/wick\n",
    "        for point in sr:\n",
    "            price = point[1]\n",
    "            date = point[0]\n",
    "            if price in sr_dict and row.Date > date:\n",
    "\n",
    "                    \n",
    "                # Close bullish inside and wick above\n",
    "                if (row.Close >= (price-sensitivity) and row.Close <= (price+sensitivity)) and candle_ratio > 0.5:\n",
    "                    sr_dict[price] += 1\n",
    "\n",
    "                    \n",
    "            else:\n",
    "                sr_dict[price] = 0\n",
    "    \n",
    "    # Filter dictionary to only store levels that have been tested\n",
    "    sr_dict = dict(filter(lambda val: val[1] >= tests, sr_dict.items()))\n",
    "    \n",
    "    # Filters strength dictionary to only include levels above a strength level\n",
    "    sr = sorted([level for level, strength in sr_dict.items() if strength >= tests])\n",
    "    \n",
    "    # Conduct noise reduction using noise_reduction parameter\n",
    "    sr_df = pd.DataFrame(sr, columns=[\"lvl\"])\n",
    "    sr_df[\"lvl p\"] = sr_df.pct_change()\n",
    "\n",
    "    # Filter noise\n",
    "    sr = [sr_df.iloc[row[0]]['lvl'] for row in sr_df.itertuples() if row[0] > 0 if abs(row[2]) > noise_r]\n",
    "    \n",
    "    # Filter dictionary with values from list\n",
    "    sr_dict = {key:sr_dict[key] for key in sr if key in sr_dict.keys()}\n",
    "    \n",
    "    # Return the levels and their strengths as a list and dictionary\n",
    "    return sr, sr_dict"
   ]
  },
  {
   "cell_type": "code",
   "execution_count": 62,
   "id": "0c4ca6b5-7ea3-414f-bc53-4071a50ed525",
   "metadata": {},
   "outputs": [],
   "source": [
    "data = aapl_df.reset_index()"
   ]
  },
  {
   "cell_type": "code",
   "execution_count": 63,
   "id": "4d4badba-d405-4eab-bfca-cb4b586ca3f3",
   "metadata": {},
   "outputs": [
    {
     "data": {
      "text/html": [
       "<div>\n",
       "<style scoped>\n",
       "    .dataframe tbody tr th:only-of-type {\n",
       "        vertical-align: middle;\n",
       "    }\n",
       "\n",
       "    .dataframe tbody tr th {\n",
       "        vertical-align: top;\n",
       "    }\n",
       "\n",
       "    .dataframe thead th {\n",
       "        text-align: right;\n",
       "    }\n",
       "</style>\n",
       "<table border=\"1\" class=\"dataframe\">\n",
       "  <thead>\n",
       "    <tr style=\"text-align: right;\">\n",
       "      <th></th>\n",
       "      <th>Date</th>\n",
       "      <th>Adj Close</th>\n",
       "      <th>Close</th>\n",
       "      <th>High</th>\n",
       "      <th>Low</th>\n",
       "      <th>Open</th>\n",
       "      <th>Volume</th>\n",
       "    </tr>\n",
       "  </thead>\n",
       "  <tbody>\n",
       "    <tr>\n",
       "      <th>0</th>\n",
       "      <td>2021-02-24</td>\n",
       "      <td>124.609383</td>\n",
       "      <td>125.349998</td>\n",
       "      <td>125.559998</td>\n",
       "      <td>122.230003</td>\n",
       "      <td>124.940002</td>\n",
       "      <td>111039900.0</td>\n",
       "    </tr>\n",
       "    <tr>\n",
       "      <th>1</th>\n",
       "      <td>2021-02-25</td>\n",
       "      <td>120.275146</td>\n",
       "      <td>120.989998</td>\n",
       "      <td>126.459999</td>\n",
       "      <td>120.540001</td>\n",
       "      <td>124.680000</td>\n",
       "      <td>148199500.0</td>\n",
       "    </tr>\n",
       "    <tr>\n",
       "      <th>2</th>\n",
       "      <td>2021-02-26</td>\n",
       "      <td>120.543549</td>\n",
       "      <td>121.260002</td>\n",
       "      <td>124.849998</td>\n",
       "      <td>121.199997</td>\n",
       "      <td>122.589996</td>\n",
       "      <td>164560400.0</td>\n",
       "    </tr>\n",
       "    <tr>\n",
       "      <th>3</th>\n",
       "      <td>2021-03-01</td>\n",
       "      <td>127.034973</td>\n",
       "      <td>127.790001</td>\n",
       "      <td>127.930000</td>\n",
       "      <td>122.790001</td>\n",
       "      <td>123.750000</td>\n",
       "      <td>116307900.0</td>\n",
       "    </tr>\n",
       "    <tr>\n",
       "      <th>4</th>\n",
       "      <td>2021-03-02</td>\n",
       "      <td>124.380737</td>\n",
       "      <td>125.120003</td>\n",
       "      <td>128.720001</td>\n",
       "      <td>125.010002</td>\n",
       "      <td>128.410004</td>\n",
       "      <td>102260900.0</td>\n",
       "    </tr>\n",
       "  </tbody>\n",
       "</table>\n",
       "</div>"
      ],
      "text/plain": [
       "        Date   Adj Close       Close        High         Low        Open  \\\n",
       "0 2021-02-24  124.609383  125.349998  125.559998  122.230003  124.940002   \n",
       "1 2021-02-25  120.275146  120.989998  126.459999  120.540001  124.680000   \n",
       "2 2021-02-26  120.543549  121.260002  124.849998  121.199997  122.589996   \n",
       "3 2021-03-01  127.034973  127.790001  127.930000  122.790001  123.750000   \n",
       "4 2021-03-02  124.380737  125.120003  128.720001  125.010002  128.410004   \n",
       "\n",
       "        Volume  \n",
       "0  111039900.0  \n",
       "1  148199500.0  \n",
       "2  164560400.0  \n",
       "3  116307900.0  \n",
       "4  102260900.0  "
      ]
     },
     "execution_count": 63,
     "metadata": {},
     "output_type": "execute_result"
    }
   ],
   "source": [
    "data.head()"
   ]
  },
  {
   "cell_type": "code",
   "execution_count": 66,
   "id": "be536a09-28c0-4821-8562-ee09a9e355db",
   "metadata": {},
   "outputs": [],
   "source": [
    "sr, sr_dict = levels(data, sensitivity=.5)"
   ]
  },
  {
   "cell_type": "code",
   "execution_count": 70,
   "id": "2422a9a7-427c-4c17-a5de-934bd32aee39",
   "metadata": {},
   "outputs": [
    {
     "data": {
      "image/png": "[encoded data removed]",
      "text/plain": [
       "<Figure size 1600x1150 with 4 Axes>"
      ]
     },
     "metadata": {},
     "output_type": "display_data"
    }
   ],
   "source": [
    "data = data.set_index(pd.to_datetime(data.Date))\n",
    "mpf.plot(data,hlines=dict(hlines=sr,linestyle='-.'), volume=True, type='candle', figscale=2)"
   ]
  },
  {
   "cell_type": "code",
   "execution_count": null,
   "id": "8ddc193b-409b-4b21-87be-796a53bb7dc8",
   "metadata": {},
   "outputs": [],
   "source": []
  }
 ],
 "metadata": {
  "kernelspec": {
   "display_name": "dev",
   "language": "python",
   "name": "dev"
  },
  "language_info": {
   "codemirror_mode": {
    "name": "ipython",
    "version": 3
   },
   "file_extension": ".py",
   "mimetype": "text/x-python",
   "name": "python",
   "nbconvert_exporter": "python",
   "pygments_lexer": "ipython3",
   "version": "3.7.11"
  }
 },
 "nbformat": 4,
 "nbformat_minor": 5
}
